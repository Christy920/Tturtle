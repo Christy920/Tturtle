{
 "cells": [
  {
   "cell_type": "code",
   "execution_count": 1,
   "metadata": {},
   "outputs": [],
   "source": [
    "import turtle  \n",
    "import random\n",
    "import time\n",
    "import math\n",
    "n = 80.0\n",
    "turtle.speed(\"fastest\")\n",
    "turtle.screensize(bg='seashell')\n",
    "turtle.left(90)\n",
    "turtle.forward(3*n)   #树的主干高240\n",
    "turtle.color(\"orange\", \"yellow\")\n",
    "turtle.begin_fill()\n",
    "turtle.left(126)\n",
    "\n",
    "for i in range(5):        #画五角星\n",
    "    turtle.forward(n/5)\n",
    "    turtle.right(144)\n",
    "    turtle.forward(n/5)\n",
    "    turtle.left(72)\n",
    "turtle.end_fill()\n",
    "turtle.right(126)\n",
    "turtle.color(\"dark green\")\n",
    "turtle.backward(n*4.8)\n",
    "turtle.forward(384)      #让笔回到树的顶端\n",
    "\n",
    "def draw_tree(length):     #开始画树\n",
    "    if length<200:   #画三层的圣诞树，从上到下三层正三角形边长分别为80，80*1.5，80*1.5*1.5=180\n",
    "        for i in range(3):\n",
    "            turtle.forward(length)\n",
    "            turtle.left(120)\n",
    "        h=math.sqrt(3)*0.5      #在画完每一层后返回三角形的高的长度的距离，正三角形高=边长*0.5*根号三\n",
    "        turtle.left(30)\n",
    "        turtle.forward(length*h)\n",
    "        turtle.right(30)\n",
    "        draw_tree(1.5*length) \n",
    "\n",
    "turtle.pensize(3)\n",
    "turtle.color('green')\n",
    "turtle.left(150)\n",
    "draw_tree(80)\n",
    "               \n",
    "turtle.left(30)        #下面这部分是把笔移动到树的右侧来写祝贺语～\n",
    "turtle.forward(100)\n",
    "turtle.penup()\n",
    "turtle.goto(200,-100)\n",
    "turtle.pendown()\n",
    "turtle.color('red')\n",
    "turtle.hideturtle()\n",
    "turtle.write('Merry Christmas!', font=('Times New Roman', 20, 'normal'))   "
   ]
  },
  {
   "cell_type": "code",
   "execution_count": null,
   "metadata": {},
   "outputs": [],
   "source": []
  }
 ],
 "metadata": {
  "kernelspec": {
   "display_name": "Python 3",
   "language": "python",
   "name": "python3"
  },
  "language_info": {
   "codemirror_mode": {
    "name": "ipython",
    "version": 3
   },
   "file_extension": ".py",
   "mimetype": "text/x-python",
   "name": "python",
   "nbconvert_exporter": "python",
   "pygments_lexer": "ipython3",
   "version": "3.7.4"
  }
 },
 "nbformat": 4,
 "nbformat_minor": 2
}
